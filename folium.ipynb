{
 "cells": [
  {
   "cell_type": "code",
   "execution_count": 1,
   "metadata": {},
   "outputs": [],
   "source": [
    "import requests\n",
    "from pprint import pprint\n",
    "import folium\n"
   ]
  },
  {
   "cell_type": "code",
   "execution_count": 2,
   "metadata": {},
   "outputs": [],
   "source": [
    "BASE_URL = 'https://nominatim.openstreetmap.org/search?format=json'"
   ]
  },
  {
   "cell_type": "code",
   "execution_count": 3,
   "metadata": {},
   "outputs": [
    {
     "name": "stdout",
     "output_type": "stream",
     "text": [
      "[{'addresstype': 'postcode',\n",
      "  'boundingbox': ['18.0356566', '18.3556566', '75.8979075', '76.2179075'],\n",
      "  'class': 'place',\n",
      "  'display_name': '413501, Dharashiv, Maharashtra, India',\n",
      "  'importance': 0.12000999999999995,\n",
      "  'lat': '18.195656598360653',\n",
      "  'licence': 'Data © OpenStreetMap contributors, ODbL 1.0. '\n",
      "             'http://osm.org/copyright',\n",
      "  'lon': '76.05790750655738',\n",
      "  'name': '413501',\n",
      "  'place_id': 332903670,\n",
      "  'place_rank': 21,\n",
      "  'type': 'postcode'}]\n"
     ]
    }
   ],
   "source": [
    "postalcode = '413501'\n",
    "\n",
    "response = requests.get(f'{BASE_URL}&postalcode={postalcode}')\n",
    "\n",
    "data = response.json()\n",
    "pprint(data)"
   ]
  },
  {
   "cell_type": "code",
   "execution_count": 4,
   "metadata": {},
   "outputs": [
    {
     "name": "stdout",
     "output_type": "stream",
     "text": [
      "Latitude: 18.195656598360653\n",
      "Longitude: 76.05790750655738\n"
     ]
    }
   ],
   "source": [
    "latitude =  (data[0].get('lat'))\n",
    "longitude = (data[0].get('lon'))\n",
    "\n",
    "\n",
    "print(f'Latitude: {latitude}')\n",
    "print(f'Longitude: {longitude}')"
   ]
  },
  {
   "cell_type": "code",
   "execution_count": 5,
   "metadata": {},
   "outputs": [
    {
     "name": "stdout",
     "output_type": "stream",
     "text": [
      "[{'addresstype': 'postcode',\n",
      "  'boundingbox': ['-35.2811697', '-35.2810697', '149.1228219', '149.1229219'],\n",
      "  'class': 'boundary',\n",
      "  'display_name': '2601, City, Canberra, District of Canberra Central, '\n",
      "                  'Australian Capital Territory, Australia',\n",
      "  'importance': 0.12000999999999995,\n",
      "  'lat': '-35.281119700000005',\n",
      "  'licence': 'Data © OpenStreetMap contributors, ODbL 1.0. '\n",
      "             'http://osm.org/copyright',\n",
      "  'lon': '149.12287194632802',\n",
      "  'name': '2601',\n",
      "  'osm_id': 11661816,\n",
      "  'osm_type': 'relation',\n",
      "  'place_id': 18608179,\n",
      "  'place_rank': 21,\n",
      "  'type': 'postal_code'}]\n"
     ]
    }
   ],
   "source": [
    "#just for Understanding more parameters\n",
    "zipcode = '2601'\n",
    "\n",
    "response = requests.get(f'{BASE_URL}&postalcode={zipcode}&country=Australia')\n",
    "\n",
    "temp_data = response.json()\n",
    "pprint(temp_data)"
   ]
  },
  {
   "cell_type": "code",
   "execution_count": 6,
   "metadata": {},
   "outputs": [
    {
     "name": "stdout",
     "output_type": "stream",
     "text": [
      "[{'addresstype': 'postcode',\n",
      "  'boundingbox': ['18.2775372', '18.5975372', '73.6568504', '73.9768504'],\n",
      "  'class': 'place',\n",
      "  'display_name': '411041, Haveli, Pune, Maharashtra, India',\n",
      "  'importance': 0.12000999999999995,\n",
      "  'lat': '18.43753715172414',\n",
      "  'licence': 'Data © OpenStreetMap contributors, ODbL 1.0. '\n",
      "             'http://osm.org/copyright',\n",
      "  'lon': '73.81685037684728',\n",
      "  'name': '411041',\n",
      "  'place_id': 332903498,\n",
      "  'place_rank': 21,\n",
      "  'type': 'postcode'}]\n"
     ]
    }
   ],
   "source": [
    "postalcode = '411041'\n",
    "\n",
    "response = requests.get(f'{BASE_URL}&postalcode={postalcode}')\n",
    "\n",
    "data2 = response.json()\n",
    "pprint(data2)"
   ]
  },
  {
   "cell_type": "code",
   "execution_count": 7,
   "metadata": {},
   "outputs": [
    {
     "name": "stdout",
     "output_type": "stream",
     "text": [
      "Latitude: 18.43753715172414\n",
      "Longitude: 73.81685037684728\n"
     ]
    }
   ],
   "source": [
    "latitude2 =  (data2[0].get('lat'))\n",
    "longitude2 = (data2[0].get('lon'))\n",
    "\n",
    "\n",
    "print(f'Latitude: {latitude2}')\n",
    "print(f'Longitude: {longitude2}')"
   ]
  },
  {
   "cell_type": "code",
   "execution_count": 8,
   "metadata": {},
   "outputs": [
    {
     "data": {
      "text/html": [
       "<div style=\"width:100%;\"><div style=\"position:relative;width:100%;height:0;padding-bottom:60%;\"><span style=\"color:#565656\">Make this Notebook Trusted to load map: File -> Trust Notebook</span><iframe srcdoc=\"&lt;!DOCTYPE html&gt;\n",
       "&lt;html&gt;\n",
       "&lt;head&gt;\n",
       "    \n",
       "    &lt;meta http-equiv=&quot;content-type&quot; content=&quot;text/html; charset=UTF-8&quot; /&gt;\n",
       "    \n",
       "        &lt;script&gt;\n",
       "            L_NO_TOUCH = false;\n",
       "            L_DISABLE_3D = false;\n",
       "        &lt;/script&gt;\n",
       "    \n",
       "    &lt;style&gt;html, body {width: 100%;height: 100%;margin: 0;padding: 0;}&lt;/style&gt;\n",
       "    &lt;style&gt;#map {position:absolute;top:0;bottom:0;right:0;left:0;}&lt;/style&gt;\n",
       "    &lt;script src=&quot;https://cdn.jsdelivr.net/npm/leaflet@1.9.3/dist/leaflet.js&quot;&gt;&lt;/script&gt;\n",
       "    &lt;script src=&quot;https://code.jquery.com/jquery-3.7.1.min.js&quot;&gt;&lt;/script&gt;\n",
       "    &lt;script src=&quot;https://cdn.jsdelivr.net/npm/bootstrap@5.2.2/dist/js/bootstrap.bundle.min.js&quot;&gt;&lt;/script&gt;\n",
       "    &lt;script src=&quot;https://cdnjs.cloudflare.com/ajax/libs/Leaflet.awesome-markers/2.0.2/leaflet.awesome-markers.js&quot;&gt;&lt;/script&gt;\n",
       "    &lt;link rel=&quot;stylesheet&quot; href=&quot;https://cdn.jsdelivr.net/npm/leaflet@1.9.3/dist/leaflet.css&quot;/&gt;\n",
       "    &lt;link rel=&quot;stylesheet&quot; href=&quot;https://cdn.jsdelivr.net/npm/bootstrap@5.2.2/dist/css/bootstrap.min.css&quot;/&gt;\n",
       "    &lt;link rel=&quot;stylesheet&quot; href=&quot;https://netdna.bootstrapcdn.com/bootstrap/3.0.0/css/bootstrap.min.css&quot;/&gt;\n",
       "    &lt;link rel=&quot;stylesheet&quot; href=&quot;https://cdn.jsdelivr.net/npm/@fortawesome/fontawesome-free@6.2.0/css/all.min.css&quot;/&gt;\n",
       "    &lt;link rel=&quot;stylesheet&quot; href=&quot;https://cdnjs.cloudflare.com/ajax/libs/Leaflet.awesome-markers/2.0.2/leaflet.awesome-markers.css&quot;/&gt;\n",
       "    &lt;link rel=&quot;stylesheet&quot; href=&quot;https://cdn.jsdelivr.net/gh/python-visualization/folium/folium/templates/leaflet.awesome.rotate.min.css&quot;/&gt;\n",
       "    \n",
       "            &lt;meta name=&quot;viewport&quot; content=&quot;width=device-width,\n",
       "                initial-scale=1.0, maximum-scale=1.0, user-scalable=no&quot; /&gt;\n",
       "            &lt;style&gt;\n",
       "                #map_df2a6b04cd5adc600df85151c1208c73 {\n",
       "                    position: relative;\n",
       "                    width: 800.0px;\n",
       "                    height: 400.0px;\n",
       "                    left: 0.0%;\n",
       "                    top: 0.0%;\n",
       "                }\n",
       "                .leaflet-container { font-size: 1rem; }\n",
       "            &lt;/style&gt;\n",
       "        \n",
       "&lt;/head&gt;\n",
       "&lt;body&gt;\n",
       "    \n",
       "    \n",
       "            &lt;div class=&quot;folium-map&quot; id=&quot;map_df2a6b04cd5adc600df85151c1208c73&quot; &gt;&lt;/div&gt;\n",
       "        \n",
       "&lt;/body&gt;\n",
       "&lt;script&gt;\n",
       "    \n",
       "    \n",
       "            var map_df2a6b04cd5adc600df85151c1208c73 = L.map(\n",
       "                &quot;map_df2a6b04cd5adc600df85151c1208c73&quot;,\n",
       "                {\n",
       "                    center: [18.195656598360653, 76.05790750655738],\n",
       "                    crs: L.CRS.EPSG3857,\n",
       "                    zoom: 10,\n",
       "                    zoomControl: true,\n",
       "                    preferCanvas: false,\n",
       "                }\n",
       "            );\n",
       "\n",
       "            \n",
       "\n",
       "        \n",
       "    \n",
       "            var tile_layer_7f2adc04affcdb32556358652f429307 = L.tileLayer(\n",
       "                &quot;https://tile.openstreetmap.org/{z}/{x}/{y}.png&quot;,\n",
       "                {&quot;attribution&quot;: &quot;\\u0026copy; \\u003ca href=\\&quot;https://www.openstreetmap.org/copyright\\&quot;\\u003eOpenStreetMap\\u003c/a\\u003e contributors&quot;, &quot;detectRetina&quot;: false, &quot;maxNativeZoom&quot;: 19, &quot;maxZoom&quot;: 19, &quot;minZoom&quot;: 0, &quot;noWrap&quot;: false, &quot;opacity&quot;: 1, &quot;subdomains&quot;: &quot;abc&quot;, &quot;tms&quot;: false}\n",
       "            );\n",
       "        \n",
       "    \n",
       "            tile_layer_7f2adc04affcdb32556358652f429307.addTo(map_df2a6b04cd5adc600df85151c1208c73);\n",
       "        \n",
       "    \n",
       "            var marker_af4150cc230e0644b9e9761a6c49752e = L.marker(\n",
       "                [18.195656598360653, 76.05790750655738],\n",
       "                {}\n",
       "            ).addTo(map_df2a6b04cd5adc600df85151c1208c73);\n",
       "        \n",
       "    \n",
       "        var popup_5a4af19f09eeae0d3df8f0400c24aa2b = L.popup({&quot;maxWidth&quot;: &quot;100%&quot;});\n",
       "\n",
       "        \n",
       "            \n",
       "                var html_ea5ad42a197fab18e8c84f05e31c34f9 = $(`&lt;div id=&quot;html_ea5ad42a197fab18e8c84f05e31c34f9&quot; style=&quot;width: 100.0%; height: 100.0%;&quot;&gt;My Home&lt;/div&gt;`)[0];\n",
       "                popup_5a4af19f09eeae0d3df8f0400c24aa2b.setContent(html_ea5ad42a197fab18e8c84f05e31c34f9);\n",
       "            \n",
       "        \n",
       "\n",
       "        marker_af4150cc230e0644b9e9761a6c49752e.bindPopup(popup_5a4af19f09eeae0d3df8f0400c24aa2b)\n",
       "        ;\n",
       "\n",
       "        \n",
       "    \n",
       "    \n",
       "            var marker_e954399167f4e024c96e48f5ce8b2bc6 = L.marker(\n",
       "                [18.43753715172414, 73.81685037684728],\n",
       "                {}\n",
       "            ).addTo(map_df2a6b04cd5adc600df85151c1208c73);\n",
       "        \n",
       "    \n",
       "        var popup_91a08a159da76c27fabdf4698e3a6a56 = L.popup({&quot;maxWidth&quot;: &quot;100%&quot;});\n",
       "\n",
       "        \n",
       "            \n",
       "                var html_e92ef8d9c2a79a8810fe3f90cc469a9b = $(`&lt;div id=&quot;html_e92ef8d9c2a79a8810fe3f90cc469a9b&quot; style=&quot;width: 100.0%; height: 100.0%;&quot;&gt;My Hostel&lt;/div&gt;`)[0];\n",
       "                popup_91a08a159da76c27fabdf4698e3a6a56.setContent(html_e92ef8d9c2a79a8810fe3f90cc469a9b);\n",
       "            \n",
       "        \n",
       "\n",
       "        marker_e954399167f4e024c96e48f5ce8b2bc6.bindPopup(popup_91a08a159da76c27fabdf4698e3a6a56)\n",
       "        ;\n",
       "\n",
       "        \n",
       "    \n",
       "&lt;/script&gt;\n",
       "&lt;/html&gt;\" style=\"position:absolute;width:100%;height:100%;left:0;top:0;border:none !important;\" allowfullscreen webkitallowfullscreen mozallowfullscreen></iframe></div></div>"
      ],
      "text/plain": [
       "<folium.folium.Map at 0x1fbe32b18e0>"
      ]
     },
     "execution_count": 8,
     "metadata": {},
     "output_type": "execute_result"
    }
   ],
   "source": [
    "location = float(latitude), float(longitude)\n",
    "location2 = float(latitude2), float(longitude2)\n",
    "\n",
    "m = folium.Map(location=location, width = 800, height = 400)\n",
    "\n",
    "folium.Marker(location, popup='My Home', ).add_to(m)\n",
    "folium.Marker(location2, popup='My Hostel', ).add_to(m)\n",
    "\n",
    "m\n"
   ]
  },
  {
   "cell_type": "code",
   "execution_count": 9,
   "metadata": {},
   "outputs": [
    {
     "name": "stdout",
     "output_type": "stream",
     "text": [
      "Requirement already satisfied: geopy in c:\\users\\pratham\\appdata\\local\\programs\\python\\python312\\lib\\site-packages (2.4.1)\n",
      "Requirement already satisfied: geographiclib<3,>=1.52 in c:\\users\\pratham\\appdata\\local\\programs\\python\\python312\\lib\\site-packages (from geopy) (2.0)\n"
     ]
    },
    {
     "name": "stderr",
     "output_type": "stream",
     "text": [
      "\n",
      "[notice] A new release of pip is available: 23.3.2 -> 24.0\n",
      "[notice] To update, run: C:\\Users\\Pratham\\AppData\\Local\\Programs\\Python\\Python312\\python.exe -m pip install --upgrade pip\n"
     ]
    }
   ],
   "source": [
    "!pip install geopy"
   ]
  },
  {
   "cell_type": "code",
   "execution_count": 10,
   "metadata": {},
   "outputs": [
    {
     "data": {
      "text/plain": [
       "(238.41816909300675, 148.14618198036388)"
      ]
     },
     "execution_count": 10,
     "metadata": {},
     "output_type": "execute_result"
    }
   ],
   "source": [
    "from geopy.distance import distance\n",
    "\n",
    "km = distance(location, location2).km\n",
    "miles = distance(location, location2).miles\n",
    "\n",
    "km, miles\n"
   ]
  },
  {
   "cell_type": "code",
   "execution_count": 11,
   "metadata": {},
   "outputs": [
    {
     "data": {
      "text/html": [
       "<div style=\"width:100%;\"><div style=\"position:relative;width:100%;height:0;padding-bottom:60%;\"><span style=\"color:#565656\">Make this Notebook Trusted to load map: File -> Trust Notebook</span><iframe srcdoc=\"&lt;!DOCTYPE html&gt;\n",
       "&lt;html&gt;\n",
       "&lt;head&gt;\n",
       "    \n",
       "    &lt;meta http-equiv=&quot;content-type&quot; content=&quot;text/html; charset=UTF-8&quot; /&gt;\n",
       "    \n",
       "        &lt;script&gt;\n",
       "            L_NO_TOUCH = false;\n",
       "            L_DISABLE_3D = false;\n",
       "        &lt;/script&gt;\n",
       "    \n",
       "    &lt;style&gt;html, body {width: 100%;height: 100%;margin: 0;padding: 0;}&lt;/style&gt;\n",
       "    &lt;style&gt;#map {position:absolute;top:0;bottom:0;right:0;left:0;}&lt;/style&gt;\n",
       "    &lt;script src=&quot;https://cdn.jsdelivr.net/npm/leaflet@1.9.3/dist/leaflet.js&quot;&gt;&lt;/script&gt;\n",
       "    &lt;script src=&quot;https://code.jquery.com/jquery-3.7.1.min.js&quot;&gt;&lt;/script&gt;\n",
       "    &lt;script src=&quot;https://cdn.jsdelivr.net/npm/bootstrap@5.2.2/dist/js/bootstrap.bundle.min.js&quot;&gt;&lt;/script&gt;\n",
       "    &lt;script src=&quot;https://cdnjs.cloudflare.com/ajax/libs/Leaflet.awesome-markers/2.0.2/leaflet.awesome-markers.js&quot;&gt;&lt;/script&gt;\n",
       "    &lt;link rel=&quot;stylesheet&quot; href=&quot;https://cdn.jsdelivr.net/npm/leaflet@1.9.3/dist/leaflet.css&quot;/&gt;\n",
       "    &lt;link rel=&quot;stylesheet&quot; href=&quot;https://cdn.jsdelivr.net/npm/bootstrap@5.2.2/dist/css/bootstrap.min.css&quot;/&gt;\n",
       "    &lt;link rel=&quot;stylesheet&quot; href=&quot;https://netdna.bootstrapcdn.com/bootstrap/3.0.0/css/bootstrap.min.css&quot;/&gt;\n",
       "    &lt;link rel=&quot;stylesheet&quot; href=&quot;https://cdn.jsdelivr.net/npm/@fortawesome/fontawesome-free@6.2.0/css/all.min.css&quot;/&gt;\n",
       "    &lt;link rel=&quot;stylesheet&quot; href=&quot;https://cdnjs.cloudflare.com/ajax/libs/Leaflet.awesome-markers/2.0.2/leaflet.awesome-markers.css&quot;/&gt;\n",
       "    &lt;link rel=&quot;stylesheet&quot; href=&quot;https://cdn.jsdelivr.net/gh/python-visualization/folium/folium/templates/leaflet.awesome.rotate.min.css&quot;/&gt;\n",
       "    \n",
       "            &lt;meta name=&quot;viewport&quot; content=&quot;width=device-width,\n",
       "                initial-scale=1.0, maximum-scale=1.0, user-scalable=no&quot; /&gt;\n",
       "            &lt;style&gt;\n",
       "                #map_923b86c9aa8e4df4e59d3b17dde2e1bb {\n",
       "                    position: relative;\n",
       "                    width: 800.0px;\n",
       "                    height: 400.0px;\n",
       "                    left: 0.0%;\n",
       "                    top: 0.0%;\n",
       "                }\n",
       "                .leaflet-container { font-size: 1rem; }\n",
       "            &lt;/style&gt;\n",
       "        \n",
       "&lt;/head&gt;\n",
       "&lt;body&gt;\n",
       "    \n",
       "    \n",
       "            &lt;div class=&quot;folium-map&quot; id=&quot;map_923b86c9aa8e4df4e59d3b17dde2e1bb&quot; &gt;&lt;/div&gt;\n",
       "        \n",
       "&lt;/body&gt;\n",
       "&lt;script&gt;\n",
       "    \n",
       "    \n",
       "            var map_923b86c9aa8e4df4e59d3b17dde2e1bb = L.map(\n",
       "                &quot;map_923b86c9aa8e4df4e59d3b17dde2e1bb&quot;,\n",
       "                {\n",
       "                    center: [18.195656598360653, 76.05790750655738],\n",
       "                    crs: L.CRS.EPSG3857,\n",
       "                    zoom: 10,\n",
       "                    zoomControl: true,\n",
       "                    preferCanvas: false,\n",
       "                }\n",
       "            );\n",
       "\n",
       "            \n",
       "\n",
       "        \n",
       "    \n",
       "            var tile_layer_7b203e4d54687c5ece80e617586335a0 = L.tileLayer(\n",
       "                &quot;https://tile.openstreetmap.org/{z}/{x}/{y}.png&quot;,\n",
       "                {&quot;attribution&quot;: &quot;\\u0026copy; \\u003ca href=\\&quot;https://www.openstreetmap.org/copyright\\&quot;\\u003eOpenStreetMap\\u003c/a\\u003e contributors&quot;, &quot;detectRetina&quot;: false, &quot;maxNativeZoom&quot;: 19, &quot;maxZoom&quot;: 19, &quot;minZoom&quot;: 0, &quot;noWrap&quot;: false, &quot;opacity&quot;: 1, &quot;subdomains&quot;: &quot;abc&quot;, &quot;tms&quot;: false}\n",
       "            );\n",
       "        \n",
       "    \n",
       "            tile_layer_7b203e4d54687c5ece80e617586335a0.addTo(map_923b86c9aa8e4df4e59d3b17dde2e1bb);\n",
       "        \n",
       "    \n",
       "            var marker_908fd96669cd1fdff00d2990e398e9aa = L.marker(\n",
       "                [18.195656598360653, 76.05790750655738],\n",
       "                {}\n",
       "            ).addTo(map_923b86c9aa8e4df4e59d3b17dde2e1bb);\n",
       "        \n",
       "    \n",
       "        var popup_bdaed9fe1df88ca9209ec07c3163d673 = L.popup({&quot;maxWidth&quot;: &quot;100%&quot;});\n",
       "\n",
       "        \n",
       "            \n",
       "                var html_e3e8903cfc770ba1490776aec2538476 = $(`&lt;div id=&quot;html_e3e8903cfc770ba1490776aec2538476&quot; style=&quot;width: 100.0%; height: 100.0%;&quot;&gt;My Home&lt;/div&gt;`)[0];\n",
       "                popup_bdaed9fe1df88ca9209ec07c3163d673.setContent(html_e3e8903cfc770ba1490776aec2538476);\n",
       "            \n",
       "        \n",
       "\n",
       "        marker_908fd96669cd1fdff00d2990e398e9aa.bindPopup(popup_bdaed9fe1df88ca9209ec07c3163d673)\n",
       "        ;\n",
       "\n",
       "        \n",
       "    \n",
       "    \n",
       "            var marker_66d82857bce38e8cce5657f93f3f06f9 = L.marker(\n",
       "                [18.43753715172414, 73.81685037684728],\n",
       "                {}\n",
       "            ).addTo(map_923b86c9aa8e4df4e59d3b17dde2e1bb);\n",
       "        \n",
       "    \n",
       "        var popup_35ee05fcbefb45a4448739a9486380cf = L.popup({&quot;maxWidth&quot;: &quot;100%&quot;});\n",
       "\n",
       "        \n",
       "            \n",
       "                var html_d13536569f892c27d92c1dfa5584dd5e = $(`&lt;div id=&quot;html_d13536569f892c27d92c1dfa5584dd5e&quot; style=&quot;width: 100.0%; height: 100.0%;&quot;&gt;My Hostel&lt;/div&gt;`)[0];\n",
       "                popup_35ee05fcbefb45a4448739a9486380cf.setContent(html_d13536569f892c27d92c1dfa5584dd5e);\n",
       "            \n",
       "        \n",
       "\n",
       "        marker_66d82857bce38e8cce5657f93f3f06f9.bindPopup(popup_35ee05fcbefb45a4448739a9486380cf)\n",
       "        ;\n",
       "\n",
       "        \n",
       "    \n",
       "    \n",
       "            var poly_line_21dee21f8ce5f0134583658fe4b51560 = L.polyline(\n",
       "                [[18.195656598360653, 76.05790750655738], [18.43753715172414, 73.81685037684728]],\n",
       "                {&quot;bubblingMouseEvents&quot;: true, &quot;color&quot;: &quot;#3388ff&quot;, &quot;dashArray&quot;: null, &quot;dashOffset&quot;: null, &quot;fill&quot;: false, &quot;fillColor&quot;: &quot;#3388ff&quot;, &quot;fillOpacity&quot;: 0.2, &quot;fillRule&quot;: &quot;evenodd&quot;, &quot;lineCap&quot;: &quot;round&quot;, &quot;lineJoin&quot;: &quot;round&quot;, &quot;noClip&quot;: false, &quot;opacity&quot;: 1.0, &quot;smoothFactor&quot;: 1.0, &quot;stroke&quot;: true, &quot;weight&quot;: 3}\n",
       "            ).addTo(map_923b86c9aa8e4df4e59d3b17dde2e1bb);\n",
       "        \n",
       "&lt;/script&gt;\n",
       "&lt;/html&gt;\" style=\"position:absolute;width:100%;height:100%;left:0;top:0;border:none !important;\" allowfullscreen webkitallowfullscreen mozallowfullscreen></iframe></div></div>"
      ],
      "text/plain": [
       "<folium.folium.Map at 0x1fbe4de7500>"
      ]
     },
     "execution_count": 11,
     "metadata": {},
     "output_type": "execute_result"
    }
   ],
   "source": [
    "location = float(latitude), float(longitude)\n",
    "location2 = float(latitude2), float(longitude2)\n",
    "\n",
    "m = folium.Map(location=location, width = 800, height = 400)\n",
    "\n",
    "folium.Marker(location, popup='My Home', ).add_to(m)\n",
    "folium.Marker(location2, popup='My Hostel', ).add_to(m)\n",
    "\n",
    "folium.PolyLine((location, location2)).add_to(m)\n",
    "\n",
    "m"
   ]
  },
  {
   "cell_type": "code",
   "execution_count": null,
   "metadata": {},
   "outputs": [],
   "source": []
  }
 ],
 "metadata": {
  "kernelspec": {
   "display_name": "Python 3 (ipykernel)",
   "language": "python",
   "name": "python3"
  },
  "language_info": {
   "codemirror_mode": {
    "name": "ipython",
    "version": 3
   },
   "file_extension": ".py",
   "mimetype": "text/x-python",
   "name": "python",
   "nbconvert_exporter": "python",
   "pygments_lexer": "ipython3",
   "version": "3.12.1"
  }
 },
 "nbformat": 4,
 "nbformat_minor": 4
}
